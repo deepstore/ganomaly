{
 "cells": [
  {
   "cell_type": "code",
   "execution_count": 2,
   "id": "miniature-hazard",
   "metadata": {},
   "outputs": [
    {
     "name": "stdout",
     "output_type": "stream",
     "text": [
      "/home/ubuntu/ganomaly\n"
     ]
    }
   ],
   "source": [
    "%cd ../"
   ]
  },
  {
   "cell_type": "code",
   "execution_count": 8,
   "id": "integral-accreditation",
   "metadata": {},
   "outputs": [
    {
     "name": "stdout",
     "output_type": "stream",
     "text": [
      "Traceback (most recent call last):\n",
      "  File \"train.py\", line 43, in <module>\n",
      "    train()\n",
      "  File \"train.py\", line 34, in train\n",
      "    dataloader = load_data(opt)\n",
      "  File \"/home/ubuntu/ganomaly/lib/data.py\", line 169, in load_data\n",
      "    trn_img=dataset['train'].data,\n",
      "AttributeError: 'ImageFolder' object has no attribute 'data'\n"
     ]
    }
   ],
   "source": [
    "!python train.py --dataset only_a --isize 32 --niter 15 --abnormal_class abnormal --manualseed 42\n"
   ]
  },
  {
   "cell_type": "markdown",
   "id": "modular-compensation",
   "metadata": {},
   "source": [
    "ref https://github.com/joblib/joblib/issues/917#issuecomment-567639537\n",
    "\n",
    "> scikit-learn 0.20 embeds an old joblib version and neither support Python 3.8. Use scikit-learn 0.22 and joblib 0.14 or later for Python 3.8 support.\n",
    "\n"
   ]
  }
 ],
 "metadata": {
  "kernelspec": {
   "display_name": "Python 3",
   "language": "python",
   "name": "python3"
  },
  "language_info": {
   "codemirror_mode": {
    "name": "ipython",
    "version": 3
   },
   "file_extension": ".py",
   "mimetype": "text/x-python",
   "name": "python",
   "nbconvert_exporter": "python",
   "pygments_lexer": "ipython3",
   "version": "3.6.9"
  }
 },
 "nbformat": 4,
 "nbformat_minor": 5
}
